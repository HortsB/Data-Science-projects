{
 "cells": [
  {
   "metadata": {},
   "cell_type": "markdown",
   "source": "# Question 1 - Extracting Tesla Stock Data Using yfinance - 2 Points",
   "id": "ea22f5838e05bb4d"
  },
  {
   "metadata": {},
   "cell_type": "code",
   "outputs": [],
   "execution_count": null,
   "source": "# ",
   "id": "initial_id"
  },
  {
   "metadata": {},
   "cell_type": "markdown",
   "source": "# Question 2 - Extracting Tesla Revenue Data Using Webscraping - 1 Points\n",
   "id": "f25fa2d6c24e461"
  },
  {
   "metadata": {},
   "cell_type": "code",
   "outputs": [],
   "execution_count": null,
   "source": "",
   "id": "73746923b2990da4"
  },
  {
   "metadata": {},
   "cell_type": "markdown",
   "source": "# Question 3 - Extracting GameStop Stock Data Using yfinance - 2 Points\n",
   "id": "b95f396166965ffa"
  },
  {
   "metadata": {},
   "cell_type": "code",
   "outputs": [],
   "execution_count": null,
   "source": "",
   "id": "2eef2f4d90fc6faf"
  },
  {
   "metadata": {},
   "cell_type": "markdown",
   "source": "# Question 4 - Extracting GameStop Revenue Data Using Webscraping - 1 Points\n",
   "id": "cdc1910afb66623c"
  },
  {
   "metadata": {},
   "cell_type": "code",
   "outputs": [],
   "execution_count": null,
   "source": "",
   "id": "85a6657fc1884b82"
  },
  {
   "metadata": {},
   "cell_type": "markdown",
   "source": "",
   "id": "dd8c519afefd35d6"
  },
  {
   "metadata": {},
   "cell_type": "code",
   "outputs": [],
   "execution_count": null,
   "source": "",
   "id": "89a9e7047048b88b"
  }
 ],
 "metadata": {
  "kernelspec": {
   "display_name": "Python 3",
   "language": "python",
   "name": "python3"
  },
  "language_info": {
   "codemirror_mode": {
    "name": "ipython",
    "version": 2
   },
   "file_extension": ".py",
   "mimetype": "text/x-python",
   "name": "python",
   "nbconvert_exporter": "python",
   "pygments_lexer": "ipython2",
   "version": "2.7.6"
  }
 },
 "nbformat": 4,
 "nbformat_minor": 5
}
